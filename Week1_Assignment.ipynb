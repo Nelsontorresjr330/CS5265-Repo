{
  "nbformat": 4,
  "nbformat_minor": 0,
  "metadata": {
    "colab": {
      "provenance": [],
      "authorship_tag": "ABX9TyMhS9eh81hj72vNWrGd1Q6Z",
      "include_colab_link": true
    },
    "kernelspec": {
      "name": "python3",
      "display_name": "Python 3"
    },
    "language_info": {
      "name": "python"
    }
  },
  "cells": [
    {
      "cell_type": "markdown",
      "metadata": {
        "id": "view-in-github",
        "colab_type": "text"
      },
      "source": [
        "<a href=\"https://colab.research.google.com/github/Nelsontorresjr330/CS5265-Repo/blob/main/Week1_Assignment.ipynb\" target=\"_parent\"><img src=\"https://colab.research.google.com/assets/colab-badge.svg\" alt=\"Open In Colab\"/></a>"
      ]
    },
    {
      "cell_type": "markdown",
      "source": [
        "# Week 1 Assignment Header"
      ],
      "metadata": {
        "id": "GfHg13BOjk7r"
      }
    },
    {
      "cell_type": "markdown",
      "source": [
        "## Proposed Project - NFL Data to predict future games"
      ],
      "metadata": {
        "id": "pyR7KVNfkyVV"
      }
    },
    {
      "cell_type": "markdown",
      "source": [
        "### Background  - I am a huge sports fan (NFL and Soccer mostly) & luckily for me there is a ton of readily available data online for all fans to use."
      ],
      "metadata": {
        "id": "2Y1aLINplAIf"
      }
    },
    {
      "cell_type": "markdown",
      "source": [
        "### Project Description - The final goal for my project is to reach around 60% accuracy on game predictions, the specific dataset I plan on using is provided by FiveThirtyEight (https://data.fivethirtyeight.com/). Their nfl-elo dataset hosts 17380 rows and 33 columns with date, boolean, integer, string, and float data types. To fit the assignment description a bit better I can widdle down the number of columns since I dont think they will all be necessary."
      ],
      "metadata": {
        "id": "FXilSl3AlDsg"
      }
    },
    {
      "cell_type": "markdown",
      "source": [
        "### Performance Metric - The dataset provides data as of February 2023 or the end of the most recent NFL season. To determine how well my model works, I will compare the model's predicted score to the true end result and the closer the model is to the actual score, the better the model. Ideally, my model will be able to predict around 60% of the games correctly."
      ],
      "metadata": {
        "id": "sDeVP6pWoJQI"
      }
    },
    {
      "cell_type": "markdown",
      "source": [],
      "metadata": {
        "id": "j8FqIUnZoxMZ"
      }
    }
  ]
}