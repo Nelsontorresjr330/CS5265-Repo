{
  "nbformat": 4,
  "nbformat_minor": 0,
  "metadata": {
    "colab": {
      "provenance": [],
      "authorship_tag": "ABX9TyMDchSVZ20QrW3So73Ssmjl",
      "include_colab_link": true
    },
    "kernelspec": {
      "name": "python3",
      "display_name": "Python 3"
    },
    "language_info": {
      "name": "python"
    }
  },
  "cells": [
    {
      "cell_type": "markdown",
      "metadata": {
        "id": "view-in-github",
        "colab_type": "text"
      },
      "source": [
        "<a href=\"https://colab.research.google.com/github/Nelsontorresjr330/CS5265-Repo/blob/main/Week1_Assignment.ipynb\" target=\"_parent\"><img src=\"https://colab.research.google.com/assets/colab-badge.svg\" alt=\"Open In Colab\"/></a>"
      ]
    },
    {
      "cell_type": "markdown",
      "source": [
        "# Week 1 Assignment\n"
      ],
      "metadata": {
        "id": "GfHg13BOjk7r"
      }
    },
    {
      "cell_type": "markdown",
      "source": [
        "## Proposed Project - NFL Data to predict future games"
      ],
      "metadata": {
        "id": "pyR7KVNfkyVV"
      }
    },
    {
      "cell_type": "markdown",
      "source": [
        "## Background \n",
        "### I am a huge sports fan (NFL and Soccer mostly) & luckily for me there is a ton of readily available data online for all fans to use. The dataset I chose uses Football data to start but I could see myself dabbling in other sports later on.\n",
        "### There are tons of available scholarly articles & professionals who dedicate their lives to determining game results. Its ultimately impossible to perfectly predict every game though as there are essentially infinite variables to consider but I believe there is some fun/opportunity in trying to get as accurate as possible. One example of someone using data to try and predict results is https://www.activestate.com/blog/how-to-predict-nfl-winners-with-python/ . I will be referencing this one throughout the semester most likely as its broken down clearly and easy to digest.\n"
      ],
      "metadata": {
        "id": "2Y1aLINplAIf"
      }
    },
    {
      "cell_type": "markdown",
      "source": [
        "## Project Description\n",
        "### The final goal for my project is to reach around 60% accuracy on game predictions, the specific dataset I plan on using is provided by FiveThirtyEight (https://data.fivethirtyeight.com/). Their nfl-elo dataset hosts 17380 rows and 33 columns with date, boolean, integer, string, and float data types. To fit the assignment description a bit better I can widdle down the number of columns since I dont think they will all be necessary.\n",
        "### My plan in a nutshell is essentially to weigh the columns initally in terms of how I believe they contribute to the final score, then let the modeling algorithm grow from their and discover the weights on it's own. \n",
        "### To me, the most important stats are: \n",
        "- playoff (BOOL : Whether or not the game was a playoff game)\n",
        "- elo_pre scores (FLOAT : Overall team rating going into the games)\n",
        "- elo_prob scores (FLOAT: A teams chance of winning based solely on their elo)\n",
        "- qbelo_pre scores (FLOAT : Overall QB rating going into the games)\n",
        "- qbelo_prob scores (FLOAT : A teams chance of winning based solely on their QB Elo)\n",
        "- qbelo_post scores (FLOAT : A QB rating after the given games) \n",
        "- quality (INT : A game's quality score based on the teams' pregame elo ratings, scaled from 0-100)\n",
        "- importance (INT : Rating of games importance based on how the result would affect the models foraecasted playoff odds, scaled from 0-100)\n",
        "- total_rating (INT : The average of quality and importance)\n",
        "\n",
        "### For a description of all the columns -> https://github.com/fivethirtyeight/data/tree/master/nfl-elo"
      ],
      "metadata": {
        "id": "FXilSl3AlDsg"
      }
    },
    {
      "cell_type": "markdown",
      "source": [
        "## Performance Metric \n",
        "### The dataset provides data as of February 2023 or the end of the most recent NFL season. To determine how well my model works, I will compare the model's predicted score to the true end result and the closer the model is to the actual score, the better the model. Ideally, my model will be able to predict around 60% of the games correctly.\n",
        "### Initially, the goal is just to get a win or loss model working, then compare the predicted results to the actual ones and once satisfied with those, I will move on to predicting scores outright.\n",
        "# Total Accuracy Percentage = Σ(games_predicted_correctly) / Σ(all_games_predicted) \n"
      ],
      "metadata": {
        "id": "sDeVP6pWoJQI"
      }
    },
    {
      "cell_type": "markdown",
      "source": [],
      "metadata": {
        "id": "j8FqIUnZoxMZ"
      }
    }
  ]
}